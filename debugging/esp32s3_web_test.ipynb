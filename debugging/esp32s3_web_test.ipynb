{
 "cells": [
  {
   "cell_type": "code",
   "execution_count": 1,
   "metadata": {},
   "outputs": [],
   "source": [
    "# a good http lib\n",
    "import httpx\n",
    "import asyncio\n",
    "import time"
   ]
  },
  {
   "cell_type": "code",
   "execution_count": 2,
   "metadata": {},
   "outputs": [],
   "source": [
    "# Needed param\n",
    "\n",
    "# for retreat\n",
    "# IP_ADDR = '10.2.78.10'\n",
    "\n",
    "# for illinois net\n",
    "# IP_ADDR = '172.16.100.169'\n",
    "\n",
    "IP_ADDR = '172.16.103.137'\n",
    "\n",
    "url = f\"http://{IP_ADDR}\""
   ]
  },
  {
   "cell_type": "code",
   "execution_count": 3,
   "metadata": {},
   "outputs": [],
   "source": [
    "# sync HTTP\n",
    "def syncPOST(rel_Path, data): \n",
    "    try:\n",
    "        response = httpx.post(url+rel_Path, data=data)\n",
    "        if response.status_code == 200:\n",
    "            print(f\"send to {url+rel_Path}\")\n",
    "            print(response.text)\n",
    "        else:\n",
    "            print(f\"failed to send to {IP_ADDR}, status: {response.status_code}\")\n",
    "    except httpx.RequestError as e:\n",
    "        print(url+rel_Path)\n",
    "        print(f\"Request error: {e}\")"
   ]
  },
  {
   "cell_type": "code",
   "execution_count": 23,
   "metadata": {},
   "outputs": [],
   "source": [
    "# ascync HTTP\n",
    "async def asyncPOST(path, data):\n",
    "    async with httpx.AsyncClient() as client:\n",
    "        try:\n",
    "            response = await client.post(url+path, data=data)\n",
    "            print(f\"Status: {response.status_code}\")\n",
    "            print(\"Response content:\")\n",
    "            print(response.text)\n",
    "        except httpx.RequestError as e:\n",
    "            print(f\"Request error: {e}\")"
   ]
  },
  {
   "cell_type": "markdown",
   "metadata": {},
   "source": [
    "### Control requests data format (HTTP)\n",
    "5 different control requests is available\n",
    "- `/stop_motors`<br>\n",
    "    No parameters, return a json object containing current state `{state: \"STOP\"}`\n",
    "\n",
    "- `/set_speed`<br>\n",
    "    parameters:\n",
    "    - `duration`(long int): motor control duration in ms [optional, default: 0]\n",
    "    - `speedLeft`(float): left motor speed [optional, default: 0]\n",
    "    - `speedRight`(float): right motor speed [optional, default: 0]\n",
    "\n",
    "    response:\n",
    "    - a json object containing current state `{state: \"YOLO\"}`\n",
    "\n",
    "- `/set_lid`<br>\n",
    "    No parameters\n",
    "\n",
    "    response:\n",
    "    - a json object containing current state `{state: \"LID\"}`\n",
    "    \n",
    "- `/move`<br>\n",
    "    parameters:\n",
    "    - `duration`(long int): motor control duration in ms [optional, default: 5000]\n",
    "    - `speed`(float): moving speed [optional, default: 0]\n",
    "    - `direction`(string):  \"forward\"/\"backward\" [optional]\n",
    "\n",
    "    response:\n",
    "    - a json object containing current state `{state: \"FORWARD\" | \"BACKWARD\"}`\n",
    "  \n",
    "- `/turn`<br>\n",
    "    parameters:\n",
    "    - `duration`(long int): motor control duration in ms [optional, default: 5000]\n",
    "    - `speed`(float): turning speed [optional, default: 0]\n",
    "    - `direction`(string): \"left\"/\"right\" [optional]\n",
    "\n",
    "    response:\n",
    "    - a json object containing current state `{state: \"LEFT\" | \"RIGHT\" }`"
   ]
  },
  {
   "cell_type": "markdown",
   "metadata": {},
   "source": [
    "### Data to be sent"
   ]
  },
  {
   "cell_type": "code",
   "execution_count": 21,
   "metadata": {},
   "outputs": [],
   "source": [
    "# for /set_speed\n",
    "data = {\n",
    "    'speedLeft': 30,\n",
    "    'speedRight': 60,\n",
    "    'duration': 5000\n",
    "}\n",
    "\n",
    "# for /turn\n",
    "turnData = {\n",
    "    'duration': 5000,\n",
    "    'speed': 20,\n",
    "    'direction': 'left'\n",
    "}\n",
    "\n",
    "# for /move\n",
    "moveData = {\n",
    "    'duration': 10000,\n",
    "    'speed': 60,\n",
    "    'direction': 'forward'\n",
    "}\n"
   ]
  },
  {
   "cell_type": "markdown",
   "metadata": {},
   "source": [
    "### Sending Request"
   ]
  },
  {
   "cell_type": "code",
   "execution_count": 25,
   "metadata": {},
   "outputs": [
    {
     "name": "stdout",
     "output_type": "stream",
     "text": [
      "send to http://172.16.103.137/move\n",
      "{\"state\":\"FORWARD\"}\n"
     ]
    }
   ],
   "source": [
    "# syncPOST('/stop_motors', None)\n",
    "# time.sleep(1)\n",
    "\n",
    "# syncPOST('/set_lid', None)\n",
    "# time.sleep(1)\n",
    "# syncPOST('/turn', turnData)\n",
    "# time.sleep(5)\n",
    "syncPOST('/move', moveData)\n",
    "# time.sleep(1)\n",
    "# syncPOST('/set_speed',data)\n",
    "# await asyncPOST('/set_speed', data)\n",
    "\n",
    "# asyncio.run(main())"
   ]
  },
  {
   "cell_type": "markdown",
   "metadata": {},
   "source": [
    "### Extra content \n",
    "Async I/O, maybe useful for the final implementation"
   ]
  },
  {
   "cell_type": "code",
   "execution_count": null,
   "metadata": {},
   "outputs": [],
   "source": [
    "# MAYBE useful\n",
    "\n",
    "# import asyncio\n",
    "# import httpx\n",
    "\n",
    "# async def async_post_request_2(url, json_data):\n",
    "#     async with httpx.AsyncClient() as client:\n",
    "#         try:\n",
    "#             response = await client.post(url, json=json_data)\n",
    "#             if response.status_code == 200:\n",
    "#                 print(f\"Async POST request 2 to {url} successful\")\n",
    "#                 print(\"Response content:\")\n",
    "#                 print(response.text)\n",
    "#             else:\n",
    "#                 print(f\"Failed to send async POST request 2 with JSON. Status code: {response.status_code}\")\n",
    "#         except httpx.RequestError as e:\n",
    "#             print(f\"Request error during async POST 2: {e}\")\n",
    "\n",
    "# async def other_task():\n",
    "#     # Other asynchronous tasks can go here\n",
    "#     await asyncio.sleep(1)\n",
    "#     print(\"Other task completed\")\n",
    "\n",
    "# async def main():\n",
    "#     # Create tasks for HTTP requests and other tasks\n",
    "#     task1 = async_post_request_2(url_2, json_data_2)\n",
    "#     task2 = other_task()\n",
    "\n",
    "#     # Gather all tasks to run concurrently\n",
    "#     await asyncio.gather(task1, task2)\n",
    "\n",
    "# # Create an event loop\n",
    "# asyncio.run(main())\n"
   ]
  }
 ],
 "metadata": {
  "kernelspec": {
   "display_name": "ece445",
   "language": "python",
   "name": "python3"
  },
  "language_info": {
   "codemirror_mode": {
    "name": "ipython",
    "version": 3
   },
   "file_extension": ".py",
   "mimetype": "text/x-python",
   "name": "python",
   "nbconvert_exporter": "python",
   "pygments_lexer": "ipython3",
   "version": "3.9.0"
  }
 },
 "nbformat": 4,
 "nbformat_minor": 2
}
